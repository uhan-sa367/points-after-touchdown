{
 "cells": [
  {
   "cell_type": "markdown",
   "metadata": {
    "hide_cell": true
   },
   "source": [
    "**SA367 &#x25aa; Mathematical Models for Decision Making &#x25aa; Spring 2022 &#x25aa; Uhan**"
   ]
  },
  {
   "cell_type": "markdown",
   "metadata": {
    "hide_cell": true
   },
   "source": [
    "# Lesson 16. Solving the points-after-touchdown problem with Python "
   ]
  },
  {
   "cell_type": "markdown",
   "metadata": {},
   "source": [
    "- Let's solve the stochastic dynamic program we formulated for the points-after-touchdown problem in Lesson 15\n",
    "\n",
    "- Before doing anything else, let's import `StochasticDP` from the `stochasticdp` package:"
   ]
  },
  {
   "cell_type": "code",
   "execution_count": null,
   "metadata": {},
   "outputs": [],
   "source": [
    "from stochasticdp import StochasticDP"
   ]
  },
  {
   "cell_type": "markdown",
   "metadata": {},
   "source": [
    "## Setting up the data"
   ]
  },
  {
   "cell_type": "markdown",
   "metadata": {},
   "source": [
    "- In Lesson 14, we worked with the following data:\n",
    "\n",
    "\\begin{alignat*}{2}\n",
    "  T & = \\text{total number of possessions} \\\\[1ex]\n",
    "  p_{1n} & = \\Pr\\{ \\text{1-pt. conv. successful for Team $n$} \\,|\\, \\text{1-pt. conv. attempted by Team $n$} \\} & \\quad & \\text{for } n = \\text{A}, \\text{B} \\\\\n",
    "  p_{2n} & = \\Pr\\{ \\text{2-pt. conv. successful for Team $n$} \\,|\\, \\text{2-pt. conv. attempted by Team $n$} \\} & \\quad & \\text{for } n = \\text{A}, \\text{B} \\\\[1ex]\n",
    "  b_1 & = \\Pr \\{ \\text{1-pt. conv. attempted by Team B} \\}\\\\\n",
    "  b_2 & = \\Pr \\{ \\text{2-pt. conv. attempted by Team B} \\}\\\\[1ex]\n",
    "  t_n & = \\Pr \\{ \\text{TD by Team $n$ in 1 possession} \\}                                                                     & \\quad & \\text{for } n = \\text{A}, \\text{B} \\\\\n",
    "  g_n & = \\Pr \\{ \\text{FG by Team $n$ in 1 possession} \\}                                                                     & \\quad & \\text{for } n = \\text{A}, \\text{B} \\\\\n",
    "  z_n & = \\Pr \\{ \\text{no score by Team $n$ in 1 possession} \\}                                                               & \\quad & \\text{for } n = \\text{A}, \\text{B} \\\\[1ex]\n",
    "  r & = \\Pr \\{ \\text{Team A wins in overtime} \\}\n",
    "\\end{alignat*}\n",
    "\n",
    "\n",
    "- Let's begin by defining numerical values for this data\n",
    "\n",
    "\n",
    "- We can find most of these values from [Pro Football Reference](http://www.pro-football-reference.com/years/2014/)\n",
    "\n",
    "\n",
    "- For now, let's assume that Team A and Team B are both average 2014 NFL teams\n",
    "    - Recall that in 2014, 1-pt. conversions started at the 2-yard line\n",
    "\n",
    "\n",
    "- Also, let's assume that Team A wins in overtime with probability 0.5"
   ]
  },
  {
   "cell_type": "code",
   "execution_count": null,
   "metadata": {},
   "outputs": [],
   "source": [
    "# Total number of possessions\n",
    "# Drive Averages: 2 * (#Dr) / (G * (# of teams))\n",
    "T = 23\n",
    "\n",
    "# 1-pt. conversion success probabilities\n",
    "# Kicking and Punting: XP%\n",
    "p1A = 0.993\n",
    "p1B = 0.993\n",
    "\n",
    "# 2-pt. conversion success probabilities\n",
    "# Scoring Offense: 2PM / 2PA\n",
    "p2A = 0.483\n",
    "p2B = 0.483\n",
    "\n",
    "# 1-pt. vs 2-pt attempts\n",
    "# 1-pt.: Scoring Offense: XPA / (XPA + 2PA)\n",
    "b1 = 0.954\n",
    "b2 = 1 - b1\n",
    "\n",
    "# Possession outcome probabilities - Team A\n",
    "# TD: (Scoring Offense: ATD) / (Drive Averages: #Dr)\n",
    "# FG: (Scoring Offense: FGM) / (Drive Averages: #Dr)\n",
    "tA = 0.218\n",
    "gA = 0.172\n",
    "zA = 1 - tA - gA\n",
    "\n",
    "# Possession outcome probabilities - Team B\n",
    "tB = 0.218\n",
    "gB = 0.172\n",
    "zB = 1 - tB - gB\n",
    "\n",
    "# Probability that Team A wins in OT\n",
    "r = 0.5"
   ]
  },
  {
   "cell_type": "markdown",
   "metadata": {},
   "source": [
    "## Initializing the stochastic dynamic program"
   ]
  },
  {
   "cell_type": "markdown",
   "metadata": {},
   "source": [
    "- Stages:\n",
    "\n",
    "\\begin{align*}\n",
    "  t = 0, 1, \\dots, T - 1 \\quad & \\leftrightarrow \\quad \\text{end of possession $t$} \\\\\n",
    "  t = T \\quad                  & \\leftrightarrow \\quad \\text{end of game}\n",
    "\\end{align*}"
   ]
  },
  {
   "cell_type": "code",
   "execution_count": null,
   "metadata": {},
   "outputs": [],
   "source": []
  },
  {
   "cell_type": "markdown",
   "metadata": {},
   "source": [
    "- States:\n",
    "\n",
    "\\begin{alignat*}{2}\n",
    "  (n, k, d) \\quad \\leftrightarrow \\quad & \\text{Team $n$'s possession just ended} & \\quad & \\text{for } n \\in \\{\\text{A}, \\text{B}\\}      \\\\\n",
    "                                        & \\text{Team $n$ just scored $k$ points}  & \\quad & \\text{for } k \\in \\{0, 3, 6\\}                 \\\\\n",
    "                                        & \\text{Team A is ahead by $d$ points}    & \\quad & \\text{for } d \\in \\{\\dots, -1, 0, 1, \\dots,\\}\n",
    "\\end{alignat*}\n",
    "\n",
    "\n",
    "- In Lesson 14, we did not assume a lower or upper bound on $d$, the values that represent Team A's lead\n",
    "\n",
    "\n",
    "- Since we need to have a finite number of states, let's assume $-20 \\le d \\le 20$"
   ]
  },
  {
   "cell_type": "markdown",
   "metadata": {},
   "source": [
    "__Some Python reminders.__\n",
    "\n",
    "- We can construct a list by \n",
    "    - first creating an empty list,\n",
    "    - and then adding items to it using `.append()`\n",
    "\n",
    "\n",
    "- For example:\n",
    "    ```python\n",
    "    my_list = []\n",
    "    for i in range(10):\n",
    "        my_list.append(i)\n",
    "    ```\n",
    "\n",
    "\n",
    "- `range(a)` iterates over the integers `0, 1, ..., a - 1`, while `range(a, b)` iterates over the integers `a, a + 1, ..., b - 1`"
   ]
  },
  {
   "cell_type": "code",
   "execution_count": null,
   "metadata": {},
   "outputs": [],
   "source": []
  },
  {
   "cell_type": "markdown",
   "metadata": {},
   "source": [
    "* _Quick check._ Let's inspect what we just created:"
   ]
  },
  {
   "cell_type": "code",
   "execution_count": null,
   "metadata": {},
   "outputs": [],
   "source": [
    "print(states)"
   ]
  },
  {
   "cell_type": "markdown",
   "metadata": {},
   "source": [
    "* Allowable decisions $x_t$ at stage $t$ and state $(n, k, d)$:\n",
    "\n",
    "\\begin{alignat*}{2}\n",
    "  x_t & \\in \\{ 1, 2 \\} & \\quad & \\text{if } n = \\text{A} \\text{ and } k = 6             \\\\\n",
    "  x_t & = \\text{none}  & \\quad & \\text{if } n = \\text{A} \\text{ and } k \\in \\{0, 3\\}    \\\\\n",
    "  x_t & = \\text{none}  & \\quad & \\text{if } n = \\text{B} \\text{ and } k \\in \\{0, 3, 6\\}\n",
    "\\end{alignat*}"
   ]
  },
  {
   "cell_type": "code",
   "execution_count": null,
   "metadata": {},
   "outputs": [],
   "source": []
  },
  {
   "cell_type": "markdown",
   "metadata": {},
   "source": [
    "* Now we can initialize a `StochasticDP` object called `dp` as follows:"
   ]
  },
  {
   "cell_type": "code",
   "execution_count": null,
   "metadata": {},
   "outputs": [],
   "source": [
    "dp = StochasticDP(number_of_stages, states, decisions, minimize=False)"
   ]
  },
  {
   "cell_type": "markdown",
   "metadata": {},
   "source": [
    "## Transition probabilities from stages $t = 0, 1, \\dots, T-2$"
   ]
  },
  {
   "cell_type": "markdown",
   "metadata": {},
   "source": [
    "* Let's start with the easier transitions and work our way up to the more complicated ones."
   ]
  },
  {
   "cell_type": "markdown",
   "metadata": {},
   "source": [
    "### From states $(A, 3, d)$"
   ]
  },
  {
   "cell_type": "markdown",
   "metadata": {},
   "source": [
    "- Let's consider the transitions from states $(A, 3, d)$ for $d = -20, \\dots, 20$ in stages $t = 0, 1, \\dots, T-2$:\n",
    "\n",
    "<img src=\"img/a3d-1.png\" width=\"800\"/>\n",
    "\n",
    "- We can put in these transitions like this:"
   ]
  },
  {
   "cell_type": "code",
   "execution_count": null,
   "metadata": {},
   "outputs": [],
   "source": []
  },
  {
   "cell_type": "markdown",
   "metadata": {},
   "source": [
    "- Why are we getting an `'Invalid state, stage, or decision'` message?\n",
    "    - Remember that in Lesson 14, we assumed that $d$ could take on an infinite number values\n",
    "    - On the other hand, here, we have limited $d$ to be between $-20$ and $20$\n",
    "\n",
    "\n",
    "- How can we work around this?\n",
    "    - Let's do this: if $d$ is supposed to be less than $-20$, then we simply assume that it is the same as having $d = -20$\n",
    "    - For example, suppose $d = -15$ in the diagram above \n",
    "    - Then we can model the transitions like this:\n",
    "\n",
    "<img src=\"img/a3d-2.png\" width=\"800\"/>"
   ]
  },
  {
   "cell_type": "markdown",
   "metadata": {},
   "source": [
    "* So... let's start over:"
   ]
  },
  {
   "cell_type": "code",
   "execution_count": null,
   "metadata": {},
   "outputs": [],
   "source": [
    "dp = StochasticDP(number_of_stages, states, decisions, minimize=False)"
   ]
  },
  {
   "cell_type": "markdown",
   "metadata": {},
   "source": [
    "* Using the idea above, we can write the following code to represent the transitions from states $(A, 3, d)$ for $d = -20, \\dots, 20$ and $t = 0, 1, \\dots, T - 2$:"
   ]
  },
  {
   "cell_type": "code",
   "execution_count": null,
   "metadata": {},
   "outputs": [],
   "source": []
  },
  {
   "cell_type": "markdown",
   "metadata": {},
   "source": [
    "### From states $(A, 0, d)$"
   ]
  },
  {
   "cell_type": "markdown",
   "metadata": {},
   "source": [
    "- Similarly, for the transitions from states $(A, 0, d)$ for $d = -20, \\dots, 20$ in stages $t = 0, 1, \\dots, T-2$:\n",
    "\n",
    "<img src=\"img/a0d.png\" width=\"800\"/>"
   ]
  },
  {
   "cell_type": "code",
   "execution_count": null,
   "metadata": {},
   "outputs": [],
   "source": []
  },
  {
   "cell_type": "markdown",
   "metadata": {},
   "source": [
    "### From states $(B, 3, d)$"
   ]
  },
  {
   "cell_type": "markdown",
   "metadata": {},
   "source": [
    "- Next, the transitions from states $(B, 3, d)$ for $d = -20, \\dots, 20$ in stages $t = 0, 1, \\dots, T-2$:\n",
    "\n",
    "<img src=\"img/b3d-1.png\" width=\"800\"/>\n",
    "\n",
    "- We run into a similar problem: if we're not careful, we can end up with values of $d$ greater than 20\n",
    "\n",
    "- Let's do this: if $d$ is supposed to be greater than $20$, then we simply assume that it is the same as having $d = 20$, like this: \n",
    "\n",
    "<img src=\"img/b3d-2.png\" width=\"800\"/>"
   ]
  },
  {
   "cell_type": "code",
   "execution_count": null,
   "metadata": {},
   "outputs": [],
   "source": [
    "for t in range(T - 1):\n",
    "    for d in range(-20, 21):\n",
    "        dp.add_transition(t, ('B', 3, d), 'none', ('A', 6, min(d + 6, 20)), tA, 0)\n",
    "        dp.add_transition(t, ('B', 3, d), 'none', ('A', 3, min(d + 3, 20)), gA, 0)\n",
    "        dp.add_transition(t, ('B', 3, d), 'none', ('A', 0, d), zA, 0)"
   ]
  },
  {
   "cell_type": "markdown",
   "metadata": {},
   "source": [
    "### From states $(B, 0, d)$"
   ]
  },
  {
   "cell_type": "markdown",
   "metadata": {},
   "source": [
    "* Next, the transitions from states $(B, 0, d)$ for $d = -20, \\dots, 20$ in stages $t = 0, 1, \\dots, T-2$:\n",
    "\n",
    "<img src=\"img/b0d.png\" width=\"800\"/>"
   ]
  },
  {
   "cell_type": "code",
   "execution_count": null,
   "metadata": {},
   "outputs": [],
   "source": [
    "for t in range(T - 1):\n",
    "    for d in range(-20, 21):\n",
    "        dp.add_transition(t, ('B', 0, d), 'none', ('A', 6, min(d + 6, 20)), tA, 0)\n",
    "        dp.add_transition(t, ('B', 0, d), 'none', ('A', 3, min(d + 3, 20)), gA, 0)\n",
    "        dp.add_transition(t, ('B', 0, d), 'none', ('A', 0, d), zA, 0)"
   ]
  },
  {
   "cell_type": "markdown",
   "metadata": {},
   "source": [
    "### From states $(A, 6, d)$"
   ]
  },
  {
   "cell_type": "markdown",
   "metadata": {},
   "source": [
    "* Next up: transitions from the state $(A, 6, d)$ for $d = -20, \\dots, 20$ in stages $t = 0, 1, \\dots, T-2$:\n",
    "\n",
    "<img src=\"img/a6d-1.png\" width=\"800\"/>"
   ]
  },
  {
   "cell_type": "markdown",
   "metadata": {},
   "source": [
    "* In this case, we can also have values of $d$ lower than $-20$ or higher than $20$ if we're not careful\n",
    "\n",
    "* Because of this, we can also have multiple transitions to the same state, like this:\n",
    "\n",
    "<img src=\"img/a6d-2.png\" width=\"800\"/>\n",
    "\n",
    "* To take care of this, we need to merge these transitions\n",
    "\n",
    "* The code becomes a bit more complicated, though, since we need to consider various cases\n",
    "\n",
    "* First, let's consider the 1-point conversion decision and break down the cases depending on the value of $d$:"
   ]
  },
  {
   "cell_type": "code",
   "execution_count": null,
   "metadata": {},
   "outputs": [],
   "source": [
    "for t in range(T - 1):\n",
    "    for d in range(-20, 21):\n",
    "\n",
    "        if d - 5 <= -20:\n",
    "            dp.add_transition(t, ('A', 6, d), 1, ('B', 6, -20), (1 - p1A) * tB + p1A * tB, 0)\n",
    "        else:\n",
    "            dp.add_transition(t, ('A', 6, d), 1, ('B', 6, max(d - 6, -20)), (1 - p1A) * tB, 0)\n",
    "            dp.add_transition(t, ('A', 6, d), 1, ('B', 6, max(d - 5, -20)), p1A * tB, 0)\n",
    "        \n",
    "        if d - 2 <= -20:\n",
    "            dp.add_transition(t, ('A', 6, d), 1, ('B', 3, -20), (1 - p1A) * gB + p1A * gB, 0)\n",
    "        else:\n",
    "            dp.add_transition(t, ('A', 6, d), 1, ('B', 3, max(d - 3, -20)), (1 - p1A) * gB, 0)\n",
    "            dp.add_transition(t, ('A', 6, d), 1, ('B', 3, max(d - 2, -20)), p1A * gB, 0)\n",
    "        \n",
    "        if d >= 20:\n",
    "            dp.add_transition(t, ('A', 6, d), 1, ('B', 0, 20), (1 - p1A) * zB + p1A * zB, 0)\n",
    "        else:\n",
    "            dp.add_transition(t, ('A', 6, d), 1, ('B', 0, min(d, 20)), (1 - p1A) * zB, 0)\n",
    "            dp.add_transition(t, ('A', 6, d), 1, ('B', 0, min(d + 1, 20)), p1A * zB, 0)"
   ]
  },
  {
   "cell_type": "markdown",
   "metadata": {},
   "source": [
    "* Let's do the same for the 2-point conversion decision:"
   ]
  },
  {
   "cell_type": "code",
   "execution_count": null,
   "metadata": {},
   "outputs": [],
   "source": [
    "for t in range(T - 1):\n",
    "    for d in range(-20, 21):\n",
    "\n",
    "        if d - 4 <= -20:\n",
    "            dp.add_transition(t, ('A', 6, d), 2, ('B', 6, -20), (1 - p2A) * tB + p2A * tB, 0)\n",
    "        else:\n",
    "            dp.add_transition(t, ('A', 6, d), 2, ('B', 6, max(d - 6, -20)), (1 - p2A) * tB, 0)\n",
    "            dp.add_transition(t, ('A', 6, d), 2, ('B', 6, max(d - 4, -20)), p2A * tB, 0)\n",
    "        \n",
    "        if d - 1 <= -20:\n",
    "            dp.add_transition(t, ('A', 6, d), 2, ('B', 3, -20), (1 - p2A) * gB + p2A * gB, 0)\n",
    "        else:\n",
    "            dp.add_transition(t, ('A', 6, d), 2, ('B', 3, max(d - 3, -20)), (1 - p2A) * gB, 0)\n",
    "            dp.add_transition(t, ('A', 6, d), 2, ('B', 3, max(d - 1, -20)), p2A * gB, 0)\n",
    "            \n",
    "        if d >= 20:\n",
    "            dp.add_transition(t, ('A', 6, d), 2, ('B', 0, 20),  (1 - p2A) * zB + p2A * zB, 0)\n",
    "        else:\n",
    "            dp.add_transition(t, ('A', 6, d), 2, ('B', 0, min(d, 20)), (1 - p2A) * zB, 0)\n",
    "            dp.add_transition(t, ('A', 6, d), 2, ('B', 0, min(d + 2, 20)), p2A * zB, 0)"
   ]
  },
  {
   "cell_type": "markdown",
   "metadata": {},
   "source": [
    "### From states $(B, 6, d)$"
   ]
  },
  {
   "cell_type": "markdown",
   "metadata": {},
   "source": [
    "* We need to take similar care for the transitions from states $(B, 6, d)$ for $d = -20, \\dots, 20$ in stages $t = 0, 1, \\dots, T-2$:\n",
    "\n",
    "<img src=\"img/b6d.png\" width=\"800\"/>"
   ]
  },
  {
   "cell_type": "code",
   "execution_count": null,
   "metadata": {},
   "outputs": [],
   "source": [
    "for t in range(T - 1):\n",
    "    for d in range(-20, 21):\n",
    "        if d + 4 >= 20:\n",
    "            dp.add_transition(t, ('B', 6, d), 'none', ('A', 6, 20), \n",
    "                              (1 - b1*p1B - b2*p2B) * tA + b1*p1B*tA + b2*p2B*tA, 0)\n",
    "        elif d + 5 >= 20:\n",
    "            dp.add_transition(t, ('B', 6, d), 'none', ('A', 6, 20), \n",
    "                              (1 - b1*p1B - b2*p2B) * tA + b1*p1B*tA, 0)    \n",
    "            dp.add_transition(t, ('B', 6, d), 'none', ('A', 6, min(d + 4, 20)), b2*p2B*tA, 0)\n",
    "        else:\n",
    "            dp.add_transition(t, ('B', 6, d), 'none', ('A', 6, min(d + 6, 20)), \n",
    "                              (1 - b1*p1B - b2*p2B) * tA, 0)\n",
    "            dp.add_transition(t, ('B', 6, d), 'none', ('A', 6, min(d + 5, 20)), b1*p1B*tA, 0)\n",
    "            dp.add_transition(t, ('B', 6, d), 'none', ('A', 6, min(d + 4, 20)), b2*p2B*tA, 0)\n",
    "\n",
    "        if d + 1 >= 20:\n",
    "            dp.add_transition(t, ('B', 6, d), 'none', ('A', 3, 20), \n",
    "                              (1 - b1*p1B - b2*p2B) * gA + b1*p1B*gA + b2*p2B*gA, 0)\n",
    "        elif d + 2 >= 20:\n",
    "            dp.add_transition(t, ('B', 6, d), 'none', ('A', 3, 20), \n",
    "                              (1 - b1*p1B - b2*p2B) * gA + b1*p1B*gA, 0)    \n",
    "            dp.add_transition(t, ('B', 6, d), 'none', ('A', 3, min(d + 1, 20)), b2*p2B*gA, 0)\n",
    "        else:\n",
    "            dp.add_transition(t, ('B', 6, d), 'none', ('A', 3, min(d + 3, 20)), \n",
    "                              (1 - b1*p1B - b2*p2B) * gA, 0)\n",
    "            dp.add_transition(t, ('B', 6, d), 'none', ('A', 3, min(d + 2, 20)), b1*p1B*gA, 0)\n",
    "            dp.add_transition(t, ('B', 6, d), 'none', ('A', 3, min(d + 1, 20)), b2*p2B*gA, 0)\n",
    "            \n",
    "        if d <= -20:\n",
    "            dp.add_transition(t, ('B', 6, d), 'none', ('A', 0, -20), \n",
    "                              (1 - b1*p1B - b2*p2B) * zA + b1*p1B*zA + b2*p2B*zA, 0)\n",
    "        elif d - 1 <= -20:\n",
    "            dp.add_transition(t, ('B', 6, d), 'none', ('A', 0, d), (1 - b1*p1B - b2*p2B) * zA, 0)\n",
    "            dp.add_transition(t, ('B', 6, d), 'none', ('A', 0, -20), b1*p1B*zA + b2*p2B*zA, 0)    \n",
    "        else:\n",
    "            dp.add_transition(t, ('B', 6, d), 'none', ('A', 0, d), (1 - b1*p1B - b2*p2B) * zA, 0)\n",
    "            dp.add_transition(t, ('B', 6, d), 'none', ('A', 0, max(d - 1, -20)), b1*p1B*zA, 0)\n",
    "            dp.add_transition(t, ('B', 6, d), 'none', ('A', 0, max(d - 2, - 20)), b2*p2B*zA, 0)"
   ]
  },
  {
   "cell_type": "markdown",
   "metadata": {},
   "source": [
    "## Transition probabilities from stage $T - 1$"
   ]
  },
  {
   "cell_type": "markdown",
   "metadata": {},
   "source": [
    "* Now, we can tackle the transitions from stage $T-1$\n",
    "\n",
    "* From states $(A, 6, d)$ for $d = -20, \\dots, 20$ in stage $T - 1$:\n",
    "\n",
    "<center><img src=\"img/last_a6d.png\" width=\"800\"></center>"
   ]
  },
  {
   "cell_type": "code",
   "execution_count": null,
   "metadata": {},
   "outputs": [],
   "source": [
    "for d in range(-20, 21):\n",
    "    # 1-point conversion\n",
    "    if d >= 20:\n",
    "        dp.add_transition(T - 1, ('A', 6, d), 1, ('A', 6, 20), (1 - p1A) + p1A, 0)\n",
    "    else:\n",
    "        dp.add_transition(T - 1, ('A', 6, d), 1, ('A', 6, d), 1 - p1A, 0)\n",
    "        dp.add_transition(T - 1, ('A', 6, d), 1, ('A', 6, min(d + 1, 20)), p1A, 0)\n",
    "\n",
    "    # 2-point conversion\n",
    "    if d >= 20:\n",
    "        dp.add_transition(T - 1, ('A', 6, d), 2, ('A', 6, 20), (1 - p2A) + p2A, 0)\n",
    "    else:\n",
    "        dp.add_transition(T - 1, ('A', 6, d), 2, ('A', 6, d), 1 - p2A, 0)\n",
    "        dp.add_transition(T - 1, ('A', 6, d), 2, ('A', 6, min(d + 2, 20)), p2A, 0)"
   ]
  },
  {
   "cell_type": "markdown",
   "metadata": {},
   "source": [
    "* From states $(A, 3, d)$ for $d = -20, \\dots, 20$ in stage $T - 1$:\n",
    "\n",
    "<center><img src=\"img/last_a3d.png\" width=\"800\"></center>"
   ]
  },
  {
   "cell_type": "code",
   "execution_count": null,
   "metadata": {},
   "outputs": [],
   "source": [
    "for d in range(-20, 21):\n",
    "    dp.add_transition(T - 1, ('A', 3, d), 'none', ('A', 3, d), 1, 0)"
   ]
  },
  {
   "cell_type": "markdown",
   "metadata": {},
   "source": [
    "* From states $(A, 0, d)$ for $d = -20, \\dots, 20$ in stage $T - 1$:\n",
    "\n",
    "<center><img src=\"img/last_a0d.png\" width=\"800\"></center>"
   ]
  },
  {
   "cell_type": "code",
   "execution_count": null,
   "metadata": {},
   "outputs": [],
   "source": [
    "for d in range(-20, 21):\n",
    "    dp.add_transition(T - 1, ('A', 0, d), 'none', ('A', 0, d), 1, 0)"
   ]
  },
  {
   "cell_type": "markdown",
   "metadata": {},
   "source": [
    "* From states $(B, 6, d)$ for $d = -20, \\dots, 20$ in stage $T - 1$:\n",
    "\n",
    "<center><img src=\"img/last_b6d.png\" width=\"800\"></center>"
   ]
  },
  {
   "cell_type": "code",
   "execution_count": null,
   "metadata": {},
   "outputs": [],
   "source": [
    "for d in range(-20, 21):\n",
    "    if d <= -20:\n",
    "        dp.add_transition(T - 1, ('B', 6, d), 'none', ('B', 6, -20), 1, 0)\n",
    "    elif d <= -19:\n",
    "        dp.add_transition(T - 1, ('B', 6, d), 'none', ('B', 6, -20), b1*p1B + b2*p2B, 0)\n",
    "        dp.add_transition(T - 1, ('B', 6, d), 'none', ('B', 6, d), 1 - b1*p1B - b2*p2B, 0)\n",
    "    else:        \n",
    "        dp.add_transition(T - 1, ('B', 6, d), 'none', ('B', 6, max(d - 2, -20)), b2*p2B, 0)\n",
    "        dp.add_transition(T - 1, ('B', 6, d), 'none', ('B', 6, max(d - 1, -20)), b1*p1B, 0)\n",
    "        dp.add_transition(T - 1, ('B', 6, d), 'none', ('B', 6, d), 1 - b1*p1B - b2*p2B, 0)"
   ]
  },
  {
   "cell_type": "markdown",
   "metadata": {},
   "source": [
    "* From states $(B, 3, d)$ for $d = -20, \\dots, 20$ in stage $T - 1$:\n",
    "\n",
    "<center><img src=\"img/last_b3d.png\" width=\"800\"></center>"
   ]
  },
  {
   "cell_type": "code",
   "execution_count": null,
   "metadata": {},
   "outputs": [],
   "source": [
    "for d in range(-20, 21):\n",
    "    dp.add_transition(T - 1, ('B', 3, d), 'none', ('B', 3, d), 1, 0)"
   ]
  },
  {
   "cell_type": "markdown",
   "metadata": {},
   "source": [
    "* From states $(B, 0, d)$ for $d = -20, \\dots, 20$ in stage $T - 1$:\n",
    "\n",
    "<center><img src=\"img/last_b0d.png\" width=\"800\"></center>"
   ]
  },
  {
   "cell_type": "code",
   "execution_count": null,
   "metadata": {},
   "outputs": [],
   "source": [
    "for d in range(-20, 21):\n",
    "    dp.add_transition(T - 1, ('B', 0, d), 'none', ('B', 0, d), 1, 0)"
   ]
  },
  {
   "cell_type": "markdown",
   "metadata": {},
   "source": [
    "## Boundary conditions"
   ]
  },
  {
   "cell_type": "markdown",
   "metadata": {},
   "source": [
    "* Finally, the boundary conditions:\n",
    "\n",
    "$$\n",
    "f_T(n, k, d) = \\begin{cases}\n",
    "1 & \\text{if } d > 0\\\\\n",
    "r & \\text{if } d = 0\\\\\n",
    "0 & \\text{if } d < 0\n",
    "\\end{cases}\n",
    "\\qquad \\text{for } n \\in \\{\\text{A}, \\text{B}\\}, k \\in \\{0, 3, 6\\}, d = -20,\\dots,20\n",
    "$$"
   ]
  },
  {
   "cell_type": "code",
   "execution_count": null,
   "metadata": {},
   "outputs": [],
   "source": []
  },
  {
   "cell_type": "markdown",
   "metadata": {},
   "source": [
    "## Solving the stochastic dynamic program"
   ]
  },
  {
   "cell_type": "markdown",
   "metadata": {},
   "source": [
    "* Now, we can solve the stochastic dynamic program we set up above:"
   ]
  },
  {
   "cell_type": "code",
   "execution_count": null,
   "metadata": {},
   "outputs": [],
   "source": [
    "value, policy = dp.solve()"
   ]
  },
  {
   "cell_type": "markdown",
   "metadata": {},
   "source": [
    "## Interpreting output from the stochastic dynamic program"
   ]
  },
  {
   "cell_type": "markdown",
   "metadata": {},
   "source": [
    "**Example 1.** What is the maximum probability that Team A wins after scoring a touchdown in the first possession?"
   ]
  },
  {
   "cell_type": "code",
   "execution_count": null,
   "metadata": {},
   "outputs": [],
   "source": []
  },
  {
   "cell_type": "markdown",
   "metadata": {},
   "source": [
    "**Example 2.** What should Team A do after scoring a touchdown in the first possession?"
   ]
  },
  {
   "cell_type": "code",
   "execution_count": null,
   "metadata": {},
   "outputs": [],
   "source": []
  },
  {
   "cell_type": "markdown",
   "metadata": {},
   "source": [
    "**Example 3.** Suppose Team A just scored a touchdown, making it 1 point behind. How does (1) the probability of Team A winning and (2) Team A's optimal strategy change depending on which possession this happened? Why do the trends you identified make sense?\n",
    "\n",
    "- _Hint._ Write a `for` loop that prints out the information you want."
   ]
  },
  {
   "cell_type": "code",
   "execution_count": null,
   "metadata": {},
   "outputs": [],
   "source": []
  },
  {
   "cell_type": "markdown",
   "metadata": {},
   "source": [
    "**Example 4.** Redo Example 3, but under the assumption that Team A just scored a touchdown, making it 4 points ahead."
   ]
  },
  {
   "cell_type": "code",
   "execution_count": null,
   "metadata": {},
   "outputs": [],
   "source": []
  },
  {
   "cell_type": "markdown",
   "metadata": {},
   "source": [
    "__Example 5.__ Recall that in 2015, 1-point attempts were moved from the 2-yard line to the 15-yard line. Suppose the 1-point conversion success rate is 94.2% (the average across all NFL teams in 2015) instead of the 99.3% we assumed. How do your answers to Examples 1-4 change?"
   ]
  }
 ],
 "metadata": {
  "kernelspec": {
   "display_name": "Python 3",
   "language": "python",
   "name": "python3"
  },
  "language_info": {
   "codemirror_mode": {
    "name": "ipython",
    "version": 3
   },
   "file_extension": ".py",
   "mimetype": "text/x-python",
   "name": "python",
   "nbconvert_exporter": "python",
   "pygments_lexer": "ipython3",
   "version": "3.8.10"
  },
  "latex_metadata": {
   "title": "Lesson 21. Solving the Points-After-Touchdown Problem"
  }
 },
 "nbformat": 4,
 "nbformat_minor": 4
}
